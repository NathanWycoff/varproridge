{
 "cells": [
  {
   "cell_type": "code",
   "execution_count": 1,
   "metadata": {
    "collapsed": true
   },
   "outputs": [],
   "source": [
    "%load_ext autoreload\n",
    "%autoreload 2"
   ]
  },
  {
   "cell_type": "code",
   "execution_count": 2,
   "metadata": {
    "collapsed": true
   },
   "outputs": [],
   "source": [
    "import numpy as np\n",
    "from itertools import product\n",
    "from scipy.linalg import orth\n",
    "from scipy.misc import comb\n",
    "from ridge import *\n",
    "import matplotlib.pyplot as plt\n",
    "%matplotlib inline\n",
    "import seaborn as sns\n",
    "sns.set_style('white')\n",
    "sns.set_context('talk')\n",
    "sns.set_color_codes()\n"
   ]
  },
  {
   "cell_type": "code",
   "execution_count": 3,
   "metadata": {
    "collapsed": true
   },
   "outputs": [],
   "source": [
    "def f(x, alpha = 1000, m = 3):\n",
    "    if len(x.shape) == 1:\n",
    "        ret = alpha*x[0]**2\n",
    "        for i in range(1,m):\n",
    "            ret += x[i]**2\n",
    "    elif len(x.shape) == 2:\n",
    "        ret = alpha*x[:,0]**2\n",
    "        for i in range(1,m):\n",
    "            ret += x[:,i]**2\n",
    "    return ret\n",
    "np.random.seed(0) \n",
    "X = np.random.uniform(size = (int(1e3),10))\n"
   ]
  },
  {
   "cell_type": "code",
   "execution_count": 14,
   "metadata": {
    "collapsed": false
   },
   "outputs": [],
   "source": [
    "rows = []\n",
    "degree = 2\n",
    "for m, it in product(range(1,11), range(10000)):\n",
    "    np.random.seed(it)\n",
    "    U0 = orth(np.random.randn(10,m))\n",
    "    fX = f(X, alpha = 1, m = m)\n",
    "    pra = PolynomialRidgeApproximation(U0 = U0, subspace_dimension = m, degree = degree, gtol = 0, xtol = 1e-10,rtol = 1e-14, ftol = 0, maxiter = 200, n_init = 1)\n",
    "    pra.fit(X, fX)\n",
    "    res_norm = pra.score(X, fX)/np.linalg.norm(fX)\n",
    "    rows.append({'m': m, 'it': it, 'res_norm': res_norm , 'U0': U0})"
   ]
  },
  {
   "cell_type": "code",
   "execution_count": 15,
   "metadata": {
    "collapsed": true
   },
   "outputs": [],
   "source": [
    "fail_fraction ={}\n",
    "for m in range(1,11):\n",
    "    res_norm = []\n",
    "    for row in rows:\n",
    "        if row['m'] == m:\n",
    "            res_norm.append(row['res_norm'])\n",
    "    res_norm = np.array(res_norm)\n",
    "    fail_fraction[m] = np.sum(res_norm >1e-5)/(1.*res_norm.shape[0])"
   ]
  },
  {
   "cell_type": "code",
   "execution_count": 16,
   "metadata": {
    "collapsed": false
   },
   "outputs": [
    {
     "name": "stdout",
     "output_type": "stream",
     "text": [
      "{1: 0.0, 2: 0.1134, 3: 0.16789999999999999, 4: 0.14549999999999999, 5: 0.071199999999999999, 6: 0.071800000000000003, 7: 0.098400000000000001, 8: 0.083500000000000005, 9: 0.033599999999999998, 10: 0.0}\n"
     ]
    }
   ],
   "source": [
    "print fail_fraction"
   ]
  },
  {
   "cell_type": "code",
   "execution_count": null,
   "metadata": {
    "collapsed": true
   },
   "outputs": [],
   "source": []
  }
 ],
 "metadata": {
  "kernelspec": {
   "display_name": "Python 2",
   "language": "python",
   "name": "python2"
  },
  "language_info": {
   "codemirror_mode": {
    "name": "ipython",
    "version": 2
   },
   "file_extension": ".py",
   "mimetype": "text/x-python",
   "name": "python",
   "nbconvert_exporter": "python",
   "pygments_lexer": "ipython2",
   "version": "2.7.13"
  }
 },
 "nbformat": 4,
 "nbformat_minor": 2
}
