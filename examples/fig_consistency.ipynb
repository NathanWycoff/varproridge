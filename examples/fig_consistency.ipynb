{
 "cells": [
  {
   "cell_type": "code",
   "execution_count": 1,
   "metadata": {
    "collapsed": true
   },
   "outputs": [],
   "source": [
    "%load_ext autoreload\n",
    "%autoreload 2"
   ]
  },
  {
   "cell_type": "code",
   "execution_count": 4,
   "metadata": {
    "collapsed": false
   },
   "outputs": [],
   "source": [
    "import numpy as np\n",
    "from scipy.linalg import orth\n",
    "\n",
    "import matplotlib.pyplot as plt\n",
    "%matplotlib inline\n",
    "import seaborn as sns\n",
    "sns.set_style('white')\n",
    "sns.set_context('talk')\n",
    "sns.set_color_codes()"
   ]
  },
  {
   "cell_type": "code",
   "execution_count": 5,
   "metadata": {
    "collapsed": true
   },
   "outputs": [],
   "source": [
    "from ridge import *"
   ]
  },
  {
   "cell_type": "code",
   "execution_count": 6,
   "metadata": {
    "collapsed": true
   },
   "outputs": [],
   "source": [
    "def f(x):\n",
    "    if len(x.shape) == 1:\n",
    "        return 1000*x[0]**2 + x[1]**2 + x[2]**2\n",
    "    elif len(x.shape) == 2:\n",
    "        return 1000*x[:,0]**2 + x[:,1]**2 + x[:,2]**2"
   ]
  },
  {
   "cell_type": "code",
   "execution_count": 10,
   "metadata": {
    "collapsed": false
   },
   "outputs": [],
   "source": [
    "N = 1000\n",
    "pra = PolynomialRidgeApproximation(subspace_dimension = 2, degree = 2, gtol = 0, rtol = 0, ftol = 0, xtol = 1e-10, n_init = 10)\n",
    "U_fit = []\n",
    "for i in range(10000):\n",
    "    np.random.seed(i)\n",
    "    X = np.random.uniform(-1,1, size = (N,10))\n",
    "    fX = f(X)\n",
    "    pra.fit(X, fX)\n",
    "    U_fit.append(pra.U)"
   ]
  },
  {
   "cell_type": "code",
   "execution_count": null,
   "metadata": {
    "collapsed": true
   },
   "outputs": [],
   "source": [
    "angles = np.zeros((len(U_fit),3))\n",
    "for i, U in enumerate(U_fit):\n",
    "    for j in range(3):\n",
    "        x = np.zeros((10,1))\n",
    "        x[j] =  1\n",
    "        angles[i,j] = np.arccos(np.linalg.svd(np.dot(x.T, U), compute_uv = False))*180/np.pi"
   ]
  },
  {
   "cell_type": "code",
   "execution_count": null,
   "metadata": {
    "collapsed": true
   },
   "outputs": [],
   "source": [
    "fig, axes = plt.subplots(1,3, figsize = (9,3))\n",
    "from sklearn.neighbors import KernelDensity\n",
    "from pgf import PGF\n",
    "\n",
    "for i, ax in enumerate(axes):\n",
    "    if i == 0:\n",
    "        kde = KernelDensity(bandwidth = 5e-4)\n",
    "        x_grid = np.linspace(0,0.02, 500)\n",
    "    else:\n",
    "        kde = KernelDensity(bandwidth = 1)\n",
    "        x_grid = np.linspace(0,90, 500)\n",
    "    kde.fit(angles[:,i].reshape(-1,1))\n",
    "    \n",
    "    y = np.exp(kde.score_samples(x_grid.reshape(-1,1)))\n",
    "    ax.plot(x_grid, y)\n",
    "    pgf = PGF()\n",
    "    pgf.add('x', x_grid)\n",
    "    pgf.add('den', y)\n",
    "    pgf.write('fig_consistency_%d.dat' % i)\n",
    "fig.tight_layout()"
   ]
  }
 ],
 "metadata": {
  "kernelspec": {
   "display_name": "Python 2",
   "language": "python",
   "name": "python2"
  },
  "language_info": {
   "codemirror_mode": {
    "name": "ipython",
    "version": 2
   },
   "file_extension": ".py",
   "mimetype": "text/x-python",
   "name": "python",
   "nbconvert_exporter": "python",
   "pygments_lexer": "ipython2",
   "version": "2.7.13"
  }
 },
 "nbformat": 4,
 "nbformat_minor": 2
}
