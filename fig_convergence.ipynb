{
 "cells": [
  {
   "cell_type": "code",
   "execution_count": 1,
   "metadata": {
    "collapsed": true
   },
   "outputs": [],
   "source": [
    "%load_ext autoreload\n",
    "%autoreload 2"
   ]
  },
  {
   "cell_type": "code",
   "execution_count": 2,
   "metadata": {
    "collapsed": true
   },
   "outputs": [],
   "source": [
    "import numpy as np\n",
    "from ridge import *\n",
    "import matplotlib.pyplot as plt\n",
    "%matplotlib inline\n",
    "import seaborn as sns\n",
    "sns.set_style('white')\n",
    "sns.set_context('talk')\n",
    "sns.set_color_codes()"
   ]
  },
  {
   "cell_type": "code",
   "execution_count": 3,
   "metadata": {
    "collapsed": true
   },
   "outputs": [],
   "source": [
    "np.random.seed(0)\n",
    "def f(x):\n",
    "    w = np.ones(x.shape)\n",
    "    w2 = np.zeros(x.shape)\n",
    "    w2[0] = 1\n",
    "    w /= np.linalg.norm(w)\n",
    "    return np.dot(x, w)**3 + np.dot(x, w2)**2+1\n",
    "X = np.random.uniform(size = (int(1e3),10))\n",
    "fX = np.array([f(x) for x in X])"
   ]
  },
  {
   "cell_type": "code",
   "execution_count": 4,
   "metadata": {
    "collapsed": true
   },
   "outputs": [],
   "source": [
    "np.random.seed(5)\n",
    "U0_vec = [orth(np.random.randn(10,2)) for i in range(10)]"
   ]
  },
  {
   "cell_type": "code",
   "execution_count": 5,
   "metadata": {
    "collapsed": false
   },
   "outputs": [
    {
     "name": "stdout",
     "output_type": "stream",
     "text": [
      "finished iter 0\n",
      "finished iter 1\n",
      "finished iter 2\n",
      "finished iter 3\n",
      "finished iter 4\n",
      "finished iter 5\n",
      "finished iter 6\n",
      "finished iter 7\n",
      "finished iter 8\n",
      "finished iter 9\n"
     ]
    }
   ],
   "source": [
    "res_norm_gauss_newton_vec = []\n",
    "for i, U0 in enumerate(U0_vec):\n",
    "    U, c, hist = grassmann_gauss_newton(U0, X, fX, degree = 3, history = True, disp = False, gtol = 0, ftol = 1e-12)\n",
    "    res_norm_gauss_newton = [np.linalg.norm(r) for r in hist['residual']]\n",
    "    res_norm_gauss_newton_vec.append(res_norm_gauss_newton)\n",
    "    print \"finished iter\", i"
   ]
  },
  {
   "cell_type": "code",
   "execution_count": 10,
   "metadata": {
    "collapsed": false
   },
   "outputs": [
    {
     "name": "stdout",
     "output_type": "stream",
     "text": [
      "finished iter 0\n",
      "finished iter 1\n",
      "finished iter 2\n",
      "finished iter 3\n",
      "finished iter 4\n",
      "finished iter 5\n",
      "finished iter 6\n",
      "finished iter 7\n",
      "finished iter 8\n",
      "finished iter 9\n"
     ]
    }
   ],
   "source": [
    "from ridge_paul import *\n",
    "degree = 3\n",
    "maxiter = 50\n",
    "tol = 1e-10\n",
    "res_norm_alternating_vec = []\n",
    "for i, U0 in enumerate(U0_vec):\n",
    "    U, hist = RidgeAlternating(X, fX.reshape(-1,1), U0, degree, maxiter, tol**2, history = True, disp = False)\n",
    "    res_norm = [np.linalg.norm(r) for r in hist['residual']]\n",
    "    res_norm_alternating_vec.append(res_norm)\n",
    "    print \"finished iter\", i"
   ]
  },
  {
   "cell_type": "code",
   "execution_count": 8,
   "metadata": {
    "collapsed": false
   },
   "outputs": [
    {
     "ename": "ImportError",
     "evalue": "No module named active_subspaces",
     "output_type": "error",
     "traceback": [
      "\u001b[0;31m---------------------------------------------------------------------------\u001b[0m",
      "\u001b[0;31mImportError\u001b[0m                               Traceback (most recent call last)",
      "\u001b[0;32m<ipython-input-8-c97ee2bbee28>\u001b[0m in \u001b[0;36m<module>\u001b[0;34m()\u001b[0m\n\u001b[0;32m----> 1\u001b[0;31m \u001b[0;32mimport\u001b[0m \u001b[0mactive_subspaces\u001b[0m\u001b[0;34m\u001b[0m\u001b[0m\n\u001b[0m",
      "\u001b[0;31mImportError\u001b[0m: No module named active_subspaces"
     ]
    }
   ],
   "source": [
    "import active_subspaces"
   ]
  },
  {
   "cell_type": "code",
   "execution_count": null,
   "metadata": {
    "collapsed": true
   },
   "outputs": [],
   "source": []
  }
 ],
 "metadata": {
  "kernelspec": {
   "display_name": "Python 2",
   "language": "python",
   "name": "python2"
  },
  "language_info": {
   "codemirror_mode": {
    "name": "ipython",
    "version": 2
   },
   "file_extension": ".py",
   "mimetype": "text/x-python",
   "name": "python",
   "nbconvert_exporter": "python",
   "pygments_lexer": "ipython2",
   "version": "2.7.13"
  }
 },
 "nbformat": 4,
 "nbformat_minor": 2
}
